{
 "cells": [
  {
   "cell_type": "code",
   "execution_count": 29,
   "metadata": {},
   "outputs": [
    {
     "name": "stdout",
     "output_type": "stream",
     "text": [
      "<table>\n",
      "<thead><tr><th>trip</th><th>mile</th></tr></thead>\n",
      "<tbody>\n",
      "<tr><td>Name1</td><td>Description1</td></tr>\n",
      "<tr><td>Name2</td><td>Description2</td></tr>\n",
      "<tr><td>Name3</td><td>Description3</td></tr>\n",
      "</tbody>\n",
      "</table>\n"
     ]
    }
   ],
   "source": [
    "# import things\n",
    "from flask_table import Table, Col, LinkCol, ButtonCol\n",
    "\n",
    "# Declare your table\n",
    "class ItemTable(Table):\n",
    "    name = Col('trip')\n",
    "    description = Col('mile')\n",
    "\n",
    "# # Get some objects\n",
    "# class Item(object):\n",
    "#     def __init__(self, name, description):\n",
    "#         self.name = name\n",
    "#         self.description = description\n",
    "# items = [Item('Name1', 'Description1'),\n",
    "#          Item('Name2', 'Description2'),\n",
    "#          Item('Name3', 'Description3')]\n",
    "# Or, equivalently, some dicts\n",
    "items = [dict(name='Name1', description='Description1'),\n",
    "         dict(name='Name2', description='Description2'),\n",
    "         dict(name='Name3', description='Description3')]\n",
    "\n",
    "# Or, more likely, load items from your database with something like\n",
    "#items = ItemModel.query.all()\n",
    "\n",
    "# Populate the table\n",
    "table = ItemTable(items)\n",
    "\n",
    "# Print the html\n",
    "print(table.__html__())\n",
    "# or just {{ table }} from within a Jinja template"
   ]
  },
  {
   "cell_type": "code",
   "execution_count": 71,
   "metadata": {},
   "outputs": [
    {
     "data": {
      "text/html": [
       "<div>\n",
       "<style scoped>\n",
       "    .dataframe tbody tr th:only-of-type {\n",
       "        vertical-align: middle;\n",
       "    }\n",
       "\n",
       "    .dataframe tbody tr th {\n",
       "        vertical-align: top;\n",
       "    }\n",
       "\n",
       "    .dataframe thead th {\n",
       "        text-align: right;\n",
       "    }\n",
       "</style>\n",
       "<table border=\"1\" class=\"dataframe\">\n",
       "  <thead>\n",
       "    <tr style=\"text-align: right;\">\n",
       "      <th></th>\n",
       "      <th>trip</th>\n",
       "      <th>mile</th>\n",
       "    </tr>\n",
       "  </thead>\n",
       "  <tbody>\n",
       "    <tr>\n",
       "      <th>0</th>\n",
       "      <td>1</td>\n",
       "      <td>3</td>\n",
       "    </tr>\n",
       "    <tr>\n",
       "      <th>1</th>\n",
       "      <td>2</td>\n",
       "      <td>4</td>\n",
       "    </tr>\n",
       "    <tr>\n",
       "      <th>2</th>\n",
       "      <td>3</td>\n",
       "      <td>5</td>\n",
       "    </tr>\n",
       "  </tbody>\n",
       "</table>\n",
       "</div>"
      ],
      "text/plain": [
       "   trip  mile\n",
       "0     1     3\n",
       "1     2     4\n",
       "2     3     5"
      ]
     },
     "execution_count": 71,
     "metadata": {},
     "output_type": "execute_result"
    }
   ],
   "source": [
    "import pandas as pd\n",
    "df = pd.DataFrame({'trip':[1,2,3],'mile':[3,4,5]})\n",
    "df"
   ]
  },
  {
   "cell_type": "code",
   "execution_count": 82,
   "metadata": {},
   "outputs": [
    {
     "name": "stdout",
     "output_type": "stream",
     "text": [
      "[{'trip': 1, 'mile': 3}, {'trip': 2, 'mile': 4}, {'trip': 3, 'mile': 5}]\n",
      "<table border=\"1\" cellpadding=\"10\">\n",
      "<thead><tr><th padding=\"100px\">trip</th><th>mile</th></tr></thead>\n",
      "<tbody>\n",
      "<tr><td padding=\"100px\">1</td><td>3</td></tr>\n",
      "<tr><td padding=\"100px\">2</td><td>4</td></tr>\n",
      "<tr><td padding=\"100px\">3</td><td>5</td></tr>\n",
      "</tbody>\n",
      "</table>\n"
     ]
    }
   ],
   "source": [
    "class ItemTable(Table):\n",
    "    trip = Col('trip', column_html_attrs={'padding':'100px'})\n",
    "    mile = Col('mile')\n",
    "    #def __init__(self, d):\n",
    "    #    trip = Col('trip')\n",
    "    #    mile = Col('mile')\n",
    "    #    Table.__init__(self, d)\n",
    "        \n",
    "    def save(self, filename):\n",
    "        f = open(filename, \"w\")\n",
    "        f.write(self.__html__())\n",
    "        f.close()\n",
    "\n",
    "d = df.to_dict(orient='record')\n",
    "print(d)\n",
    "table = ItemTable(d)\n",
    "\n",
    "# Print the html\n",
    "table.border = True\n",
    "table.html_attrs = {'cellpadding': 10}\n",
    "print(table.__html__())"
   ]
  },
  {
   "cell_type": "code",
   "execution_count": 84,
   "metadata": {},
   "outputs": [],
   "source": [
    "table.save(\"templates/table.html\")"
   ]
  },
  {
   "cell_type": "code",
   "execution_count": null,
   "metadata": {},
   "outputs": [],
   "source": []
  }
 ],
 "metadata": {
  "kernelspec": {
   "display_name": "flask_test",
   "language": "python",
   "name": "flask_test"
  },
  "language_info": {
   "codemirror_mode": {
    "name": "ipython",
    "version": 3
   },
   "file_extension": ".py",
   "mimetype": "text/x-python",
   "name": "python",
   "nbconvert_exporter": "python",
   "pygments_lexer": "ipython3",
   "version": "3.7.4"
  }
 },
 "nbformat": 4,
 "nbformat_minor": 4
}
